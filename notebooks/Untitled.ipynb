{
 "cells": [
  {
   "cell_type": "markdown",
   "metadata": {},
   "source": [
    "# The Warehouse location problem"
   ]
  },
  {
   "cell_type": "code",
   "execution_count": 6,
   "metadata": {
    "ExecuteTime": {
     "end_time": "2020-01-24T07:59:50.478677Z",
     "start_time": "2020-01-24T07:59:50.474309Z"
    }
   },
   "outputs": [],
   "source": [
    "#On importe les modules nécessaires\n",
    "import facile\n",
    "import numpy as np"
   ]
  },
  {
   "cell_type": "code",
   "execution_count": 7,
   "metadata": {
    "ExecuteTime": {
     "end_time": "2020-01-24T07:59:51.088907Z",
     "start_time": "2020-01-24T07:59:51.069943Z"
    }
   },
   "outputs": [],
   "source": [
    "#LES DONNNES\n",
    "warehouses = [ \"Paris\", \"Berlin\", \"Amsterdam\", \"Brussels\", \"London\" ]\n",
    "nbWarehouses = len(warehouses) # labeled from 0 to 4\n",
    "nbStores = 10 # labeled from 0 to 9\n",
    "capacity = [1, 4, 2, 2, 3] # capacity is indexed by warehouses\n",
    "\n",
    "# maintenanceCost is fixed across warehouses\n",
    "maintenanceCost = 30\n",
    "\n",
    "# supplyCost is indexed by Stores(0..9) and the set of Warehouses\n",
    "supplyCost = [ [ 20, 24, 11, 25, 30 ],\n",
    "               [ 28, 27, 82, 83, 74 ],\n",
    "               [ 74, 97, 71, 96, 70 ],\n",
    "               [  2, 55, 73, 69, 61 ],\n",
    "               [ 46, 96, 59, 83,  4 ],\n",
    "               [ 42, 22, 29, 67, 59 ],\n",
    "               [  1,  5, 73, 59, 56 ],\n",
    "               [ 10, 73, 13, 43, 96 ],\n",
    "               [ 93, 35, 63, 85, 46 ],\n",
    "               [ 47, 65, 55, 71, 95 ] ]"
   ]
  },
  {
   "cell_type": "code",
   "execution_count": 3,
   "metadata": {
    "ExecuteTime": {
     "end_time": "2020-01-24T07:51:32.053161Z",
     "start_time": "2020-01-24T07:51:31.789837Z"
    }
   },
   "outputs": [
    {
     "name": "stdout",
     "output_type": "stream",
     "text": [
      "383\n"
     ]
    },
    {
     "name": "stderr",
     "output_type": "stream",
     "text": [
      "/home/lena/anaconda3/lib/python3.7/site-packages/ipykernel_launcher.py:2: DeprecationWarning: Using or importing the ABCs from 'collections' instead of from 'collections.abc' is deprecated, and in 3.8 it will stop working\n",
      "  \n"
     ]
    }
   ],
   "source": [
    "#Definition des variables\n",
    "stores = [facile.variable(0, nbWarehouses - 1) for i in range(nbStores)] \n",
    "\n",
    "#Définition des contraintes\n",
    "#Capacité des Warehouses\n",
    "\n",
    "for i in range(nbWarehouses):\n",
    "    facile.constraint(sum([p == i for p in stores]) <= capacity[i])\n",
    "    \n",
    "\n",
    "#Définition de la fonction objective\n",
    "cout_ouverture = 0\n",
    "cout = 0\n",
    "\n",
    "for i in range(nbStores):\n",
    "    cout += (facile.array(supplyCost[i])[stores[i]])\n",
    "\n",
    "cout_ouverture = sum([(sum([p == i for p in stores])>0) for i in range(nbWarehouses)])*maintenanceCost\n",
    "cout += cout_ouverture\n",
    "\n",
    "\n",
    "solution = facile.minimize(stores,cout) \n",
    "solution.solution\n",
    "print(solution.evaluation)\n",
    "\n",
    "\n"
   ]
  },
  {
   "cell_type": "code",
   "execution_count": 4,
   "metadata": {
    "ExecuteTime": {
     "end_time": "2020-01-24T07:51:34.104799Z",
     "start_time": "2020-01-24T07:51:34.099501Z"
    }
   },
   "outputs": [
    {
     "name": "stdout",
     "output_type": "stream",
     "text": [
      "Le cout de la solution est : 383\n",
      "-L entrepot de Paris couvre les boutiques [3]\n",
      "-L entrepot de Berlin couvre les boutiques [1, 5, 6, 8]\n",
      "-L entrepot de Amsterdam couvre les boutiques [7, 9]\n",
      "-L entrepot de Brussels couvre les boutiques []\n",
      "-L entrepot de London couvre les boutiques [0, 2, 4]\n"
     ]
    }
   ],
   "source": [
    "#warehouses = [ \"Paris\", \"Berlin\", \"Amsterdam\", \"Brussels\", \"London\" ]\n",
    "name = ['Paris','Berlin','Amsterdam','Brussels','London']\n",
    "Warehouse = [[],[],[],[],[]]\n",
    "\n",
    "for store,wh in enumerate(solution.solution):\n",
    "    Warehouse[wh].append(store)\n",
    "\n",
    "print(\"Le cout de la solution est : {}\".format(solution.evaluation))\n",
    "for i in range(nbWarehouses):\n",
    "    print('-L entrepot de {} couvre les boutiques {}'.format(name[i],Warehouse[i]) )\n",
    "\n"
   ]
  },
  {
   "cell_type": "markdown",
   "metadata": {
    "ExecuteTime": {
     "end_time": "2020-01-16T08:09:10.262761Z",
     "start_time": "2020-01-16T08:09:10.259042Z"
    }
   },
   "source": [
    "# The Pollution-Routing Problem, minimising the distance"
   ]
  },
  {
   "cell_type": "code",
   "execution_count": 5,
   "metadata": {
    "ExecuteTime": {
     "end_time": "2020-01-24T07:51:50.604676Z",
     "start_time": "2020-01-24T07:51:50.599199Z"
    }
   },
   "outputs": [],
   "source": [
    "warehouses = [ \"Paris\", \"Berlin\", \"Amsterdam\", \"Brussels\", \"London\" ]\n",
    "nbWarehouses = len(warehouses) # labeled from 0 to 4\n",
    "nbStores = 10 # labeled from 0 to 9\n",
    "capacity = [1, 4, 2, 2, 3] # capacity is indexed by warehouses\n",
    "\n",
    "# maintenanceCost is fixed across warehouses\n",
    "maintenanceCost = 30\n",
    "\n",
    "# supplyCost is indexed by Stores(0..9) and the set of Warehouses\n",
    "supplyCost = [ [ 20, 24, 11, 25, 30 ],\n",
    "               [ 28, 27, 82, 83, 74 ],\n",
    "               [ 74, 97, 71, 96, 70 ],\n",
    "               [  2, 55, 73, 69, 61 ],\n",
    "               [ 46, 96, 59, 83,  4 ],\n",
    "               [ 42, 22, 29, 67, 59 ],\n",
    "               [  1,  5, 73, 59, 56 ],\n",
    "               [ 10, 73, 13, 43, 96 ],\n",
    "               [ 93, 35, 63, 85, 46 ],\n",
    "               [ 47, 65, 55, 71, 95 ] ]"
   ]
  }
 ],
 "metadata": {
  "kernelspec": {
   "display_name": "Python 3",
   "language": "python",
   "name": "python3"
  },
  "language_info": {
   "codemirror_mode": {
    "name": "ipython",
    "version": 3
   },
   "file_extension": ".py",
   "mimetype": "text/x-python",
   "name": "python",
   "nbconvert_exporter": "python",
   "pygments_lexer": "ipython3",
   "version": "3.7.3"
  },
  "toc": {
   "base_numbering": 1,
   "nav_menu": {},
   "number_sections": true,
   "sideBar": true,
   "skip_h1_title": false,
   "title_cell": "Table of Contents",
   "title_sidebar": "Contents",
   "toc_cell": false,
   "toc_position": {},
   "toc_section_display": true,
   "toc_window_display": false
  }
 },
 "nbformat": 4,
 "nbformat_minor": 2
}
